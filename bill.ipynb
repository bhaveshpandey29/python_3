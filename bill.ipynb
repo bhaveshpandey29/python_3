{
 "cells": [
  {
   "cell_type": "code",
   "execution_count": null,
   "metadata": {},
   "outputs": [
    {
     "name": "stdout",
     "output_type": "stream",
     "text": [
      "Please enter the number of persons : 2\n",
      "\n",
      "Enter the details of the person 1 below:\n",
      "\n",
      "Please enter the value of breakfast : 20\n",
      "Please enter the value of meal : 50\n",
      "Please enter the value for desert : 60\n",
      "\n",
      "Bill for person 1 is: 130\n",
      "\n",
      "Enter the details of the person 2 below:\n",
      "\n",
      "Please enter the value of breakfast : 30\n",
      "Please enter the value of meal : 25\n",
      "Please enter the value for desert : 65\n",
      "\n",
      "Bill for person 2 is: 120\n",
      "\n",
      "Got any coupon?\n",
      "\n",
      "\n",
      "Total Bill is =  287.5\n"
     ]
    }
   ],
   "source": [
    "while True:\n",
    "    count_per = int(input(\"Please enter the number of persons : \"))\n",
    "    total_val = []\n",
    "    for i in range(1,count_per +1):\n",
    "        print(\"\\nEnter the details of the person\",i,\"below:\")\n",
    "        person_starter = int(input(\"\\nPlease enter the value of breakfast : \"))\n",
    "        person_meal = int(input(\"Please enter the value of meal : \"))\n",
    "        person_desert = int(input(\"Please enter the value for desert : \"))\n",
    "        value = (person_desert+person_meal+person_starter)\n",
    "        total_val.insert(i,value)\n",
    "        print(\"\\nBill for person\",i,\"is:\",value)\n",
    "\n",
    "    coupon = str(input(\"\\nGot any coupon?\"))\n",
    "    total = sum(total_val)\n",
    "    if(\"FIFTY\" in coupon):\n",
    "        print(\"Congratulations for 50% OFF!!!\\nNow your total Bill is = \",total-(total*.50))\n",
    "    elif(\"FOURTY\" in coupon):\n",
    "        print(\"Congratulations for 40% OFF!!!\\nNow your total Bill is = \",total-(total*.40))\n",
    "    else:    \n",
    "        print(\"\\n\\nTotal Bill is = \",total+(total*0.15))"
   ]
  }
 ],
 "metadata": {
  "kernelspec": {
   "display_name": "Python 3",
   "language": "python",
   "name": "python3"
  },
  "language_info": {
   "codemirror_mode": {
    "name": "ipython",
    "version": 3
   },
   "file_extension": ".py",
   "mimetype": "text/x-python",
   "name": "python",
   "nbconvert_exporter": "python",
   "pygments_lexer": "ipython3",
   "version": "3.6.1"
  }
 },
 "nbformat": 4,
 "nbformat_minor": 2
}
